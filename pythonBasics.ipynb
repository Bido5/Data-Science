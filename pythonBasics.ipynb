{
 "cells": [
  {
   "cell_type": "markdown",
   "id": "16185cc3-1077-4a5e-9c89-3153798751e0",
   "metadata": {},
   "source": [
    "Python Basics Notebook by Abdalla Ibrahim"
   ]
  },
  {
   "cell_type": "markdown",
   "id": "7f15e70e",
   "metadata": {},
   "source": [
    "## 1. Integers"
   ]
  },
  {
   "cell_type": "code",
   "execution_count": null,
   "id": "1f57c88b",
   "metadata": {},
   "outputs": [
    {
     "name": "stdout",
     "output_type": "stream",
     "text": [
      "<class 'int'>\n",
      "<class 'int'>\n",
      "7 <class 'int'>\n",
      "-1 <class 'int'>\n",
      "12 <class 'int'>\n",
      "81 <class 'int'>\n"
     ]
    }
   ],
   "source": [
    "a = 3\n",
    "b = 4\n",
    "\n",
    "print(type(a))\n",
    "print(type(b))\n",
    "\n",
    "c = a + b\n",
    "print(c, type(c))\n",
    "\n",
    "c = a - b\n",
    "print(c, type(c))\n",
    "\n",
    "c = a * b\n",
    "print(c, type(c))\n",
    "\n",
    "c = a ** b\n",
    "print(c, type(c))"
   ]
  },
  {
   "cell_type": "markdown",
   "id": "f9994a63",
   "metadata": {},
   "source": [
    "## 2. Float"
   ]
  },
  {
   "cell_type": "code",
   "execution_count": null,
   "id": "4980436e",
   "metadata": {},
   "outputs": [
    {
     "name": "stdout",
     "output_type": "stream",
     "text": [
      "<class 'float'>\n",
      "<class 'float'>\n",
      "8.1 <class 'float'>\n",
      "-2.10 <class 'float'>\n",
      "15.300 <class 'float'>\n",
      "0.59 <class 'float'>\n"
     ]
    }
   ],
   "source": [
    "d = 3.0\n",
    "e = 5.1\n",
    "\n",
    "print(type(d))\n",
    "print(type(e))\n",
    "\n",
    "f = d + e\n",
    "print(f, type(f))\n",
    "\n",
    "f = d - e\n",
    "print(f\"{f:.2f}\", type(f)) # 2 decimal places\n",
    "\n",
    "f = d * e\n",
    "print(f\"{f:.3f}\", type(f)) # 3 decimal places\n",
    "\n",
    "f = d / e\n",
    "print(f\"{f:.2f}\", type(f))\n"
   ]
  },
  {
   "cell_type": "markdown",
   "id": "63adc71c",
   "metadata": {},
   "source": [
    "## 3. Strings"
   ]
  },
  {
   "cell_type": "code",
   "execution_count": null,
   "id": "6f480dc7",
   "metadata": {},
   "outputs": [
    {
     "name": "stdout",
     "output_type": "stream",
     "text": [
      "First way to define a string <class 'str'>\n",
      "A second way to define a string <class 'str'>\n",
      "And a third way <class 'str'>\n",
      "A \n",
      "multiple \n",
      "line\n",
      "string <class 'str'>\n",
      "Accessing the 5th character in string 1:  t\n",
      "Accessing the last character in string 2:  g\n",
      "third\n",
      "third way\n",
      "thir\n",
      "olleH\n"
     ]
    }
   ],
   "source": [
    "string1 = 'First way to define a string'\n",
    "string2 = \"A second way to define a string\"\n",
    "string3 = '''And a third way'''\n",
    "string4 = '''A \n",
    "multiple \n",
    "line\n",
    "string'''\n",
    "\n",
    "print(string1, type(string1))\n",
    "print(string2, type(string2))\n",
    "print(string3, type(string3))\n",
    "print(string4, type(string4))\n",
    "\n",
    "# Accessing characters in a string\n",
    "print(\"Accessing the 5th character in string 1: \",string1[4]) # index no. 4 as python is 0 based indexing\n",
    "print(\"Accessing the last character in string 2: \",string2[-1]) # last character is -1\n",
    "\n",
    "#slicing a string\n",
    "print(string3[6:11])\n",
    "print(string3[6:])\n",
    "print(string3[6:-5])\n",
    "\n",
    "#reversing a string\n",
    "string5 = \"Hello\"\n",
    "print(string5[::-1])"
   ]
  },
  {
   "cell_type": "markdown",
   "id": "95230f79",
   "metadata": {},
   "source": [
    "## 3. If-Else statements"
   ]
  },
  {
   "cell_type": "code",
   "execution_count": null,
   "id": "90dcabe0",
   "metadata": {},
   "outputs": [
    {
     "name": "stdout",
     "output_type": "stream",
     "text": [
      "3 < 5\n",
      "a is equal to 10\n"
     ]
    }
   ],
   "source": [
    "if 3 > 5:\n",
    "    print(\"Really?\")\n",
    "else:\n",
    "    print(\"3 < 5\")\n",
    "\n",
    "a = 10\n",
    "\n",
    "if a < 10:\n",
    "    print(\"a is less than 10\")\n",
    "elif a == 10:\n",
    "    print(\"a is equal to 10\")\n",
    "else:\n",
    "    print(\"a is greater than 10\")"
   ]
  },
  {
   "cell_type": "markdown",
   "id": "26412ec1",
   "metadata": {},
   "source": [
    "\n",
    "## 4. For Loop"
   ]
  },
  {
   "cell_type": "code",
   "execution_count": null,
   "id": "04c58334",
   "metadata": {},
   "outputs": [
    {
     "name": "stdout",
     "output_type": "stream",
     "text": [
      "0\n",
      "1\n",
      "2\n",
      "3\n",
      "4\n",
      "5\n",
      "6\n",
      "--\n",
      "0\n",
      "4\n",
      "6\n",
      "8\n",
      "--\n",
      "1 1\n",
      "1 2\n",
      "1 3\n",
      "2 1\n",
      "2 2\n",
      "2 3\n"
     ]
    }
   ],
   "source": [
    "for i in range(10):\n",
    "    if i > 6:\n",
    "        break\n",
    "    print(i)\n",
    "    \n",
    "\n",
    "print(\"--\")\n",
    "\n",
    "for i in range(0,10,2): # iterate by 2\n",
    "    if i == 2:\n",
    "        continue\n",
    "    print(i)\n",
    "\n",
    "print(\"--\")\n",
    "\n",
    "# nested loop\n",
    "\n",
    "for i in range(1,3):\n",
    "    for j in range(1,4):\n",
    "        print(i,j)"
   ]
  },
  {
   "cell_type": "markdown",
   "id": "bbbeeecf",
   "metadata": {},
   "source": [
    "## 5. While Loop"
   ]
  },
  {
   "cell_type": "code",
   "execution_count": null,
   "id": "d68de5e5",
   "metadata": {},
   "outputs": [
    {
     "name": "stdout",
     "output_type": "stream",
     "text": [
      "10\n",
      "9\n",
      "8\n",
      "7\n",
      "6\n",
      "5\n",
      "4\n",
      "3\n",
      "2\n",
      "1\n"
     ]
    }
   ],
   "source": [
    "i = 10\n",
    "\n",
    "while (i > 0):\n",
    "    print(i)\n",
    "    i = i - 1"
   ]
  },
  {
   "cell_type": "markdown",
   "id": "e66754b6",
   "metadata": {},
   "source": [
    "## 6. List"
   ]
  },
  {
   "cell_type": "code",
   "execution_count": null,
   "id": "9875d528",
   "metadata": {},
   "outputs": [
    {
     "name": "stdout",
     "output_type": "stream",
     "text": [
      "['apple', 'banana', 'water melon']\n",
      "water melon\n",
      "['apple', 'banana', 'water melon', 'orange']\n",
      "['apple', 'banana', 'apricot', 'water melon', 'orange']\n",
      "[1, 2, 3, 4]\n",
      "[1, 'a', 2, 'b']\n",
      "[1, 'a', 2, 'b', 3, 'c', 4, 'd']\n",
      "[4, 3, 2, 1]\n"
     ]
    }
   ],
   "source": [
    "fruits = [\"apple\", \"banana\", \"water melon\"]\n",
    "\n",
    "print(fruits)\n",
    "print(fruits[2])\n",
    "\n",
    "# Add an element to the list\n",
    "fruits.append(\"orange\") # insert to the end\n",
    "print(fruits)\n",
    "fruits.insert(2, \"apricot\") # insert at a specific index\n",
    "print(fruits)\n",
    "\n",
    "numbers = [1,2,3,4]\n",
    "print(numbers)\n",
    "\n",
    "numsChars= [1, 'a', 2, 'b']\n",
    "print(numsChars)\n",
    "\n",
    "numsChars.extend([3, 'c', 4, 'd'])\n",
    "print(numsChars)\n",
    "\n",
    "numbers.reverse()\n",
    "print(numbers)"
   ]
  },
  {
   "cell_type": "markdown",
   "id": "5025659b",
   "metadata": {},
   "source": [
    "## 7. Set"
   ]
  },
  {
   "cell_type": "code",
   "execution_count": null,
   "id": "43dcf399",
   "metadata": {},
   "outputs": [
    {
     "name": "stdout",
     "output_type": "stream",
     "text": [
      "{'h', 'a', 'i', 'I', 'm', 'b', 'A', ' ', 'r', 'd', 'l'}\n",
      "{'Ibrahim', 'Abdalla'}\n",
      "set()\n",
      "{2, 3}\n",
      "{(4, 5), 2, 3}\n",
      "{1, 2, 3, 4, 5, (4, 5)}\n",
      "{1, 2, 3, 5, (4, 5)}\n",
      "{1, 2, 3, 5}\n",
      "{2, 3, 5}\n"
     ]
    }
   ],
   "source": [
    "set1 = set(\"Abdalla Ibrahim Abdalla\") # a set using a string\n",
    "print(set1)\n",
    "\n",
    "set2 = set([\"Abdalla\", \"Ibrahim\", \"Abdalla\"])\n",
    "print(set2)\n",
    "\n",
    "set3= set()\n",
    "print(set3)\n",
    "set3.add(2)\n",
    "set3.add(3)\n",
    "print(set3)\n",
    "set3.add((4,5))\n",
    "print(set3)\n",
    "\n",
    "for i in range (1,6):\n",
    "    set3.add(i)\n",
    "print(set3)\n",
    "\n",
    "set3.remove(4)\n",
    "print(set3)\n",
    "\n",
    "set3.remove((4,5))\n",
    "print(set3)\n",
    "\n",
    "set3.pop()\n",
    "print(set3)"
   ]
  },
  {
   "cell_type": "markdown",
   "id": "29dc974a",
   "metadata": {},
   "source": [
    "## 8. Tuples"
   ]
  },
  {
   "cell_type": "code",
   "execution_count": null,
   "id": "294013d3",
   "metadata": {},
   "outputs": [
    {
     "name": "stdout",
     "output_type": "stream",
     "text": [
      "(1, 2, 3)\n",
      "a: 1  b: 2  c: 3\n",
      "(1, 2, 3, 'abc', 'xyz')\n"
     ]
    }
   ],
   "source": [
    "tuple1 = (1, 2, 3)\n",
    "print(tuple1)\n",
    "a,b,c = tuple1\n",
    "print(\"a:\",a,\" b:\",b,\" c:\",c)\n",
    "\n",
    "tuple2 = (\"abc\", \"xyz\")\n",
    "\n",
    "tuple3 = tuple1 + tuple2\n",
    "print(tuple3)"
   ]
  },
  {
   "cell_type": "markdown",
   "id": "6229ebd5",
   "metadata": {},
   "source": [
    "## 9. Functions"
   ]
  },
  {
   "cell_type": "code",
   "execution_count": null,
   "id": "82411823",
   "metadata": {},
   "outputs": [
    {
     "name": "stdout",
     "output_type": "stream",
     "text": [
      "Hello\n",
      "Hello Abdalla\n",
      "7\n"
     ]
    }
   ],
   "source": [
    "def printHello():\n",
    "    print(\"Hello\")\n",
    "\n",
    "def printName(s):\n",
    "    print(\"Hello\",s)\n",
    "\n",
    "def add(a , b):\n",
    "    return a + b\n",
    "\n",
    "printHello()\n",
    "printName(\"Abdalla\")\n",
    "\n",
    "a = add(3,4)\n",
    "print(a)"
   ]
  },
  {
   "cell_type": "markdown",
   "id": "4a3aded3",
   "metadata": {},
   "source": [
    "## 10. isEven"
   ]
  },
  {
   "cell_type": "code",
   "execution_count": null,
   "id": "df87b911",
   "metadata": {},
   "outputs": [
    {
     "name": "stdout",
     "output_type": "stream",
     "text": [
      "True\n",
      "False\n"
     ]
    }
   ],
   "source": [
    "def isEven(n):\n",
    "    if(n%2 == 0):\n",
    "        return True\n",
    "    else:\n",
    "        return False\n",
    "    \n",
    "print(isEven(3432))\n",
    "print(isEven(343))"
   ]
  }
 ],
 "metadata": {
  "kernelspec": {
   "display_name": "Python 3 (ipykernel)",
   "language": "python",
   "name": "python3"
  },
  "language_info": {
   "codemirror_mode": {
    "name": "ipython",
    "version": 3
   },
   "file_extension": ".py",
   "mimetype": "text/x-python",
   "name": "python",
   "nbconvert_exporter": "python",
   "pygments_lexer": "ipython3",
   "version": "3.11.9"
  }
 },
 "nbformat": 4,
 "nbformat_minor": 5
}
