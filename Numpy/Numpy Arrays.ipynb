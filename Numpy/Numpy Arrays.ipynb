{
 "cells": [
  {
   "cell_type": "markdown",
   "id": "7f0c2f50",
   "metadata": {},
   "source": [
    "# Numpy Arrays "
   ]
  },
  {
   "cell_type": "code",
   "execution_count": 1,
   "id": "a58f9bc1",
   "metadata": {},
   "outputs": [],
   "source": [
    "import numpy as np"
   ]
  },
  {
   "cell_type": "code",
   "execution_count": 43,
   "id": "637a9bcb",
   "metadata": {},
   "outputs": [
    {
     "name": "stdout",
     "output_type": "stream",
     "text": [
      "[1 2 3] int64 (3,) 3 24 1\n",
      "[[1 2 3]\n",
      " [4 5 6]] int64 (2, 3) 6 48 2\n"
     ]
    }
   ],
   "source": [
    "a = np.array([1,2,3])\n",
    "print(a, a.dtype, a.shape, a.size, a.nbytes, a.ndim)\n",
    "\n",
    "a2 = np.array([[1,2,3],[4,5,6]])\n",
    "print(a2, a2.dtype, a2.shape, a2.size, a2.nbytes, a2.ndim)\n"
   ]
  },
  {
   "cell_type": "code",
   "execution_count": 17,
   "id": "f19c961f",
   "metadata": {},
   "outputs": [
    {
     "name": "stdout",
     "output_type": "stream",
     "text": [
      "[0. 0. 0.] float64\n"
     ]
    }
   ],
   "source": [
    "# array filled with zeros\n",
    "b = np.zeros(3)\n",
    "print(b, b.dtype)"
   ]
  },
  {
   "cell_type": "code",
   "execution_count": 18,
   "id": "2bd712ab",
   "metadata": {},
   "outputs": [
    {
     "name": "stdout",
     "output_type": "stream",
     "text": [
      "[1 1 1] int8\n"
     ]
    }
   ],
   "source": [
    "# array filled with ones\n",
    "c = np.ones(3, dtype='int8')\n",
    "print(c, c.dtype)"
   ]
  },
  {
   "cell_type": "code",
   "execution_count": 19,
   "id": "50548efe",
   "metadata": {},
   "outputs": [
    {
     "name": "stdout",
     "output_type": "stream",
     "text": [
      "[6 6 6] int64\n"
     ]
    }
   ],
   "source": [
    "# array filled with a specific number\n",
    "d = np.full(3, 6)\n",
    "print(d, d.dtype)"
   ]
  },
  {
   "cell_type": "code",
   "execution_count": 33,
   "id": "a15f849a",
   "metadata": {},
   "outputs": [
    {
     "name": "stdout",
     "output_type": "stream",
     "text": [
      "[ 1.          1.18367347  1.36734694  1.55102041  1.73469388  1.91836735\n",
      "  2.10204082  2.28571429  2.46938776  2.65306122  2.83673469  3.02040816\n",
      "  3.20408163  3.3877551   3.57142857  3.75510204  3.93877551  4.12244898\n",
      "  4.30612245  4.48979592  4.67346939  4.85714286  5.04081633  5.2244898\n",
      "  5.40816327  5.59183673  5.7755102   5.95918367  6.14285714  6.32653061\n",
      "  6.51020408  6.69387755  6.87755102  7.06122449  7.24489796  7.42857143\n",
      "  7.6122449   7.79591837  7.97959184  8.16326531  8.34693878  8.53061224\n",
      "  8.71428571  8.89795918  9.08163265  9.26530612  9.44897959  9.63265306\n",
      "  9.81632653 10.        ]\n",
      "---------------------------------------------------------\n",
      "[ 1.     1.375  1.75   2.125  2.5    2.875  3.25   3.625  4.     4.375\n",
      "  4.75   5.125  5.5    5.875  6.25   6.625  7.     7.375  7.75   8.125\n",
      "  8.5    8.875  9.25   9.625 10.   ]\n"
     ]
    }
   ],
   "source": [
    "# array with evenly spaced values between two numbers\n",
    "e = np.linspace(1,10)\n",
    "print(e)\n",
    "\n",
    "print('---------------------------------------------------------')\n",
    "\n",
    "e = np.linspace(1,10, num=25) # specififying the interval\n",
    "print(e)"
   ]
  },
  {
   "cell_type": "code",
   "execution_count": 37,
   "id": "a19e6a46",
   "metadata": {},
   "outputs": [
    {
     "name": "stdout",
     "output_type": "stream",
     "text": [
      "[[1. 0. 0. 0.]\n",
      " [0. 1. 0. 0.]\n",
      " [0. 0. 1. 0.]\n",
      " [0. 0. 0. 1.]]\n",
      "---------------------------------------------------------\n",
      "[[1. 0. 0. 0.]\n",
      " [0. 1. 0. 0.]\n",
      " [0. 0. 1. 0.]\n",
      " [0. 0. 0. 1.]]\n"
     ]
    }
   ],
   "source": [
    "# identity matrix\n",
    "f = np.eye(4)\n",
    "print(f)\n",
    "\n",
    "print('---------------------------------------------------------')\n",
    "\n",
    "f = np.identity(4)\n",
    "print(f)"
   ]
  },
  {
   "cell_type": "code",
   "execution_count": 64,
   "id": "ed96c61c",
   "metadata": {},
   "outputs": [
    {
     "name": "stdout",
     "output_type": "stream",
     "text": [
      "[[2.57492425e-01 4.70432794e-01 9.93483756e-01 7.32139982e-01]\n",
      " [9.37474166e-01 1.92655398e-01 6.52248576e-01 1.48181346e-01]\n",
      " [3.73066449e-01 9.98550003e-01 1.46319411e-01 1.47047707e-01]\n",
      " [3.01779634e-01 8.72010098e-01 8.38473422e-01 2.15478268e-04]]\n"
     ]
    }
   ],
   "source": [
    "random = np.random.rand(4,4)\n",
    "print(random)"
   ]
  },
  {
   "cell_type": "code",
   "execution_count": 57,
   "id": "3afa5599",
   "metadata": {},
   "outputs": [
    {
     "name": "stdout",
     "output_type": "stream",
     "text": [
      "[0 1 2 3 4 5]\n",
      "-----------\n",
      "[[0 1 2]\n",
      " [3 4 5]]\n",
      "-----------\n",
      "[[0 1]\n",
      " [2 3]\n",
      " [4 5]]\n",
      "-----------\n",
      "[0 1 2 3 4 5]\n",
      "-----------\n",
      "[[0]\n",
      " [1]\n",
      " [2]\n",
      " [3]\n",
      " [4]\n",
      " [5]]\n"
     ]
    }
   ],
   "source": [
    "g = np.arange(6) # array with a range of values\n",
    "print(g)\n",
    "\n",
    "print('-----------')\n",
    "\n",
    "g2 = np.reshape(g,(2,3)) # reshaping the array\n",
    "print(g2)\n",
    "\n",
    "print('-----------')\n",
    "\n",
    "g3 = np.reshape(g,(3,2))\n",
    "print(g3)\n",
    "\n",
    "print('-----------')\n",
    "\n",
    "print(np.reshape(g3, (6,)))\n",
    "\n",
    "print('-----------')\n",
    "\n",
    "print(np.reshape(g3, (6,1)))"
   ]
  },
  {
   "cell_type": "code",
   "execution_count": 70,
   "id": "0cffeb2b",
   "metadata": {},
   "outputs": [
    {
     "name": "stdout",
     "output_type": "stream",
     "text": [
      "[[0 1 2]\n",
      " [3 4 5]]\n",
      "----\n",
      "[[0 3]\n",
      " [1 4]\n",
      " [2 5]]\n"
     ]
    }
   ],
   "source": [
    "print(g2)\n",
    "print('----')\n",
    "print(np.transpose(g2))"
   ]
  },
  {
   "cell_type": "code",
   "execution_count": 72,
   "id": "deba43e2",
   "metadata": {},
   "outputs": [
    {
     "name": "stdout",
     "output_type": "stream",
     "text": [
      "[0 1 2 3 4 5]\n"
     ]
    }
   ],
   "source": [
    "print(g3.flatten())"
   ]
  },
  {
   "cell_type": "code",
   "execution_count": 81,
   "id": "7a78a51f",
   "metadata": {},
   "outputs": [
    {
     "name": "stdout",
     "output_type": "stream",
     "text": [
      "[[ 1  2  3]\n",
      " [ 4  5  6]\n",
      " [ 7  8  9]\n",
      " [10 11 12]]\n"
     ]
    }
   ],
   "source": [
    "arr = np.array([[1,2,3],[4,5,6]])\n",
    "arr2 = np.array([[7,8,9], [10,11,12]])\n",
    "\n",
    "print(np.concatenate([arr,arr2]))"
   ]
  },
  {
   "cell_type": "code",
   "execution_count": 82,
   "id": "e24ab223",
   "metadata": {},
   "outputs": [
    {
     "name": "stdout",
     "output_type": "stream",
     "text": [
      "[0 1 2 3 4 5 6 7 8]\n",
      "[array([0, 1, 2]), array([3, 4, 5]), array([6, 7, 8])]\n"
     ]
    }
   ],
   "source": [
    "arr = np.arange(9)\n",
    "print(arr)\n",
    "\n",
    "print(np.split(arr,3)) # split the array into 3 "
   ]
  },
  {
   "cell_type": "code",
   "execution_count": 99,
   "id": "6a09a0a9",
   "metadata": {},
   "outputs": [
    {
     "name": "stdout",
     "output_type": "stream",
     "text": [
      "[[0 1 2]\n",
      " [3 4 5]\n",
      " [6 7 8]] \n",
      " ----\n",
      "[[0 1]\n",
      " [2 3]\n",
      " [4 5]] \n",
      " ----\n",
      "[[0 1 2]\n",
      " [3 4 5]] \n",
      " ----\n",
      "\n",
      " hstack:\n",
      "\n",
      "[[0 1 2 0 1]\n",
      " [3 4 5 2 3]\n",
      " [6 7 8 4 5]]\n",
      "\n",
      " vstack:\n",
      "\n",
      "[[0 1 2]\n",
      " [3 4 5]\n",
      " [6 7 8]\n",
      " [0 1 2]\n",
      " [3 4 5]]\n"
     ]
    }
   ],
   "source": [
    "arr = np.arange(9).reshape(3,3)\n",
    "print(arr,'\\n ----')\n",
    "\n",
    "arr2 = np.arange(6).reshape(3,2)\n",
    "print(arr2, '\\n ----')\n",
    "\n",
    "arr3 = np.arange(6).reshape(2,3)\n",
    "print(arr3, '\\n ----')\n",
    "\n",
    "print('\\n hstack:\\n') # same no. of rows\n",
    "print(np.hstack((arr,arr2)))\n",
    "\n",
    "print('\\n vstack:\\n') # same no. of cols\n",
    "print(np.vstack((arr,arr3)))"
   ]
  },
  {
   "cell_type": "code",
   "execution_count": 112,
   "id": "211d9901",
   "metadata": {
    "scrolled": true
   },
   "outputs": [
    {
     "name": "stdout",
     "output_type": "stream",
     "text": [
      "[0 1 2 3 4 5 6 7 8]\n",
      "[1 2 3 4]\n",
      "[0 1 2 3 4 5]\n",
      "[5 6 7 8]\n",
      "[0 2 4]\n",
      "[2 3 4 5 6]\n"
     ]
    }
   ],
   "source": [
    "arr = np.arange(9)\n",
    "print(arr)\n",
    "print(arr[1:5])\n",
    "print(arr[:6])\n",
    "print(arr[5:])\n",
    "print(arr[:6:2])\n",
    "print(arr[2:-2])"
   ]
  },
  {
   "cell_type": "code",
   "execution_count": 153,
   "id": "3798db71",
   "metadata": {
    "scrolled": true
   },
   "outputs": [
    {
     "name": "stdout",
     "output_type": "stream",
     "text": [
      "(array([0, 1, 2, 4, 5, 8, 9]),)\n",
      "[ 4  5  2 -1  0  3 -1 -1  3  1]\n",
      "(array([0, 1, 2, 3, 5, 6, 7, 8, 9]),)\n"
     ]
    }
   ],
   "source": [
    "arr = np.array([4,5,2,6,0,3,7,8,3,1])\n",
    "print(np.where(arr<=5))\n",
    "print(np.where(arr<=5, arr, -1))\n",
    "print(np.nonzero(arr))"
   ]
  },
  {
   "cell_type": "code",
   "execution_count": 147,
   "id": "6640fdae",
   "metadata": {},
   "outputs": [
    {
     "name": "stdout",
     "output_type": "stream",
     "text": [
      "dot product: \n",
      "\n",
      "[[ 50  68]\n",
      " [122 167]]\n",
      "--\n",
      "[[47 52 57]\n",
      " [64 71 78]\n",
      " [81 90 99]]\n",
      "--\n",
      "Multiply: \n",
      "\n",
      "[[ 7 16 27]\n",
      " [40 55 72]]\n",
      "--\n",
      "Mean: \n",
      "\n",
      "3.5\n",
      "--\n",
      "Median: \n",
      "\n",
      "3.5\n",
      "--\n",
      "Standard Deviation: \n",
      "\n",
      "1.707825127659933\n",
      "--\n",
      "Variance: \n",
      "\n",
      "2.9166666666666665\n",
      "--\n",
      "Cumulative Sum: \n",
      "\n",
      "[ 1  3  6 10 15 21]\n",
      "--\n",
      "Elements Product: \n",
      "\n",
      "720\n"
     ]
    }
   ],
   "source": [
    "arr = np.array([[1,2,3],[4,5,6]])\n",
    "arr2 = np.array([[7,8,9], [10,11,12]])\n",
    "\n",
    "print('dot product: \\n')\n",
    "print(np.dot(arr,np.transpose(arr2)))\n",
    "print('--')\n",
    "print(np.dot(arr.T,arr2))\n",
    "\n",
    "print('--')\n",
    "print(\"Multiply: \\n\")\n",
    "print(np.multiply(arr,arr2))\n",
    "\n",
    "print('--')\n",
    "print(\"Mean: \\n\")\n",
    "print(np.mean(arr))\n",
    "\n",
    "print('--')\n",
    "print(\"Median: \\n\")\n",
    "print(np.median(arr))\n",
    "\n",
    "print('--')\n",
    "print(\"Standard Deviation: \\n\")\n",
    "print(np.std(arr))\n",
    "\n",
    "print('--')\n",
    "print(\"Variance: \\n\")\n",
    "print(np.var(arr))\n",
    "\n",
    "print('--')\n",
    "print(\"Cumulative Sum: \\n\")\n",
    "print(np.cumsum(arr))\n",
    "\n",
    "print('--')\n",
    "print(\"Elements Product: \\n\")\n",
    "print(np.prod(arr))"
   ]
  }
 ],
 "metadata": {
  "kernelspec": {
   "display_name": "Python 3 (ipykernel)",
   "language": "python",
   "name": "python3"
  },
  "language_info": {
   "codemirror_mode": {
    "name": "ipython",
    "version": 3
   },
   "file_extension": ".py",
   "mimetype": "text/x-python",
   "name": "python",
   "nbconvert_exporter": "python",
   "pygments_lexer": "ipython3",
   "version": "3.11.9"
  }
 },
 "nbformat": 4,
 "nbformat_minor": 5
}
